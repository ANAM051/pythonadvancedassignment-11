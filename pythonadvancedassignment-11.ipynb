{
 "cells": [
  {
   "cell_type": "markdown",
   "id": "f64112a6",
   "metadata": {},
   "source": [
    "Q1. What is the concept of a metaclass?\n",
    "\n",
    "Q2. What is the best way to declare a class&#39;s metaclass?\n",
    "\n",
    "Q3. How do class decorators overlap with metaclasses for handling classes?\n",
    "\n",
    "Q4. How do class decorators overlap with metaclasses for handling instances?"
   ]
  },
  {
   "cell_type": "markdown",
   "id": "c8981b94",
   "metadata": {},
   "source": [
    "1.Metaclass means a base class ,the property of base class is inherited to all the subsequent instances or objects.Meta class is inheritance in itself."
   ]
  },
  {
   "cell_type": "markdown",
   "id": "a8741efc",
   "metadata": {},
   "source": [
    "2.The best way to declare a class’s metaclass is by setting the __metaclass__ attribute."
   ]
  },
  {
   "cell_type": "markdown",
   "id": "c0c06d7e",
   "metadata": {},
   "source": [
    "3.While both class decorators and metaclasses can be used to modify the behavior of classes, they have different use cases. \n",
    " Class decorators are simpler and more limited than metaclasses, but should be preferred whenever possible.\n"
   ]
  },
  {
   "cell_type": "markdown",
   "id": "76abfc75",
   "metadata": {},
   "source": [
    "4.Both class decorators and metaclasses can be used to modify the behavior of instances of a class. However, metaclasses offer more control and flexibility than class decorators. For example, you can use a metaclass to modify the behavior of all instances of a class, while class decorators are more suited for modifying the behavior of individual instances ."
   ]
  }
 ],
 "metadata": {
  "kernelspec": {
   "display_name": "Python 3 (ipykernel)",
   "language": "python",
   "name": "python3"
  },
  "language_info": {
   "codemirror_mode": {
    "name": "ipython",
    "version": 3
   },
   "file_extension": ".py",
   "mimetype": "text/x-python",
   "name": "python",
   "nbconvert_exporter": "python",
   "pygments_lexer": "ipython3",
   "version": "3.9.12"
  }
 },
 "nbformat": 4,
 "nbformat_minor": 5
}
